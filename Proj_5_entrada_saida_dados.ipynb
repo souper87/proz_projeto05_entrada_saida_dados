{
  "nbformat": 4,
  "nbformat_minor": 0,
  "metadata": {
    "colab": {
      "provenance": [],
      "authorship_tag": "ABX9TyOUGJoL4QcrUggyHGWv9hLA",
      "include_colab_link": true
    },
    "kernelspec": {
      "name": "python3",
      "display_name": "Python 3"
    },
    "language_info": {
      "name": "python"
    }
  },
  "cells": [
    {
      "cell_type": "markdown",
      "metadata": {
        "id": "view-in-github",
        "colab_type": "text"
      },
      "source": [
        "<a href=\"https://colab.research.google.com/github/souper87/proz_projeto05_entrada_saida_dados/blob/main/Proj_5_entrada_saida_dados.ipynb\" target=\"_parent\"><img src=\"https://colab.research.google.com/assets/colab-badge.svg\" alt=\"Open In Colab\"/></a>"
      ]
    },
    {
      "cell_type": "markdown",
      "source": [
        "###INSTRUÇÕES DO PROJETO\n",
        "\n",
        "Faça uma função calculadora que os números e as operações serão feitas pelo usuário.\n",
        "O código deve ficar rodando infinitamente até que o usuário escolha a opção de sair. No início, o programa mostrará a seguinte lista de operações:\n",
        "\n",
        "1: Soma\n",
        "\n",
        "2: Subtração\n",
        "\n",
        "3: Multiplicação\n",
        "\n",
        "4: Divisão\n",
        "\n",
        "0: Sair\n",
        "\n",
        "\n",
        "Digite o número para a operação correspondente e caso o usuário introduza qualquer outro, o sistema deve mostrar a mensagem “Essa opção não existe” e voltar ao menu de opções.\n",
        "\n",
        "Após a seleção, o sistema deve pedir para o usuário inserir o primeiro e segundo valor, um de cada. Depois precisa executar a operação e mostrar o resultado na tela. Quando o usuário escolher a opção “Sair”, o sistema irá parar.\n",
        "\n",
        "É necessário que o sistema mostre as opções sempre que finalizar uma operação e mostrar o resultado."
      ],
      "metadata": {
        "id": "lfxhmD_37fqx"
      }
    },
    {
      "cell_type": "code",
      "execution_count": null,
      "metadata": {
        "colab": {
          "base_uri": "https://localhost:8080/"
        },
        "id": "ZTFSTAs84VKC",
        "outputId": "f014ccac-63fa-4734-943d-c56ecbd1e428"
      },
      "outputs": [
        {
          "output_type": "stream",
          "name": "stdout",
          "text": [
            "Qual operacao você quer realizar?\n",
            "1: Soma 2: Subtração 3: multiplicaçao 4: Divisão 0: Sair\n",
            "3\n",
            "insira o primeiro número da operação:\n",
            "445\n",
            "insira o segundo número da operação:\n",
            "2\n",
            "O resultado é: 890\n",
            "Qual operacao você quer realizar?\n",
            "1: Soma 2: Subtração 3: multiplicaçao 4: Divisão 0: Sair\n"
          ]
        }
      ],
      "source": [
        "def calculadora(num1, num2, operacao):\n",
        "  if (operacao == 1):\n",
        "    return num1 + num2\n",
        "  elif (operacao == 2):\n",
        "    return num1 - num2\n",
        "  elif (operacao == 3):\n",
        "    return num1 * num2\n",
        "  elif (operacao == 4):\n",
        "    return num1 / num2\n",
        "  else:\n",
        "    return 0\n",
        "\n",
        "executar = True\n",
        "\n",
        "while (executar == True):\n",
        "  print(\"Qual operacao você quer realizar?\")\n",
        "  print(\"1: Soma 2: Subtração 3: multiplicaçao 4: Divisão 0: Sair\")\n",
        "  operacao = int(input())\n",
        "  if(operacao < 0) or (operacao > 4):\n",
        "    print(\"Essa opção não existe\")\n",
        "  elif(operacao == 0):\n",
        "    executar = False\n",
        "  else:\n",
        "    print(\"insira o primeiro número da operação:\")\n",
        "    num1 = int(input())\n",
        "    print(\"insira o segundo número da operação:\")\n",
        "    num2 = int(input())\n",
        "    resultado = calculadora(num1,num2,operacao)\n",
        "    print(\"O resultado é:\", resultado)"
      ]
    }
  ]
}